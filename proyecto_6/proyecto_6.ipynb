{
  "nbformat": 4,
  "nbformat_minor": 0,
  "metadata": {
    "colab": {
      "name": "proyecto_6.ipynb",
      "provenance": [],
      "authorship_tag": "ABX9TyPbvcSt9D34256pJfm3PI6Y",
      "include_colab_link": true
    },
    "kernelspec": {
      "name": "python3",
      "display_name": "Python 3"
    }
  },
  "cells": [
    {
      "cell_type": "markdown",
      "metadata": {
        "id": "view-in-github",
        "colab_type": "text"
      },
      "source": [
        "<a href=\"https://colab.research.google.com/github/misaelLS21/datos_masivos/blob/master/proyecto_6/proyecto_6.ipynb\" target=\"_parent\"><img src=\"https://colab.research.google.com/assets/colab-badge.svg\" alt=\"Open In Colab\"/></a>"
      ]
    },
    {
      "cell_type": "code",
      "metadata": {
        "id": "2X--z3nNVJD-",
        "colab_type": "code",
        "colab": {}
      },
      "source": [
        ""
      ],
      "execution_count": 0,
      "outputs": []
    },
    {
      "cell_type": "markdown",
      "metadata": {
        "id": "6Y692ZcJVNHq",
        "colab_type": "text"
      },
      "source": [
        "# Proyecto 6. Datos Masivos I\n",
        "Author: Misael López Sánchez\n",
        "\n",
        "Busqueda de twits similares usando funciones Hash Local Sensity."
      ]
    },
    {
      "cell_type": "code",
      "metadata": {
        "id": "yKZCrM1sVj6E",
        "colab_type": "code",
        "colab": {}
      },
      "source": [
        "import numpy as np\n",
        "import pandas as pd\n",
        "import csv"
      ],
      "execution_count": 0,
      "outputs": []
    },
    {
      "cell_type": "code",
      "metadata": {
        "id": "-yi6uks9V1Ey",
        "colab_type": "code",
        "colab": {}
      },
      "source": [
        "''' Mandamos a llamar los datos directamente desde un repositorio de GitHub '''\n",
        "\n",
        "url = ''"
      ],
      "execution_count": 0,
      "outputs": []
    },
    {
      "cell_type": "code",
      "metadata": {
        "id": "4QzOAdoMWqLe",
        "colab_type": "code",
        "colab": {}
      },
      "source": [
        ""
      ],
      "execution_count": 0,
      "outputs": []
    }
  ]
}